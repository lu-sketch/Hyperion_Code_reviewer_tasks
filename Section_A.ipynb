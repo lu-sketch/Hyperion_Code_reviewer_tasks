{
  "nbformat": 4,
  "nbformat_minor": 0,
  "metadata": {
    "colab": {
      "provenance": [],
      "collapsed_sections": []
    },
    "kernelspec": {
      "name": "python3",
      "display_name": "Python 3"
    },
    "language_info": {
      "name": "python"
    }
  },
  "cells": [
    {
      "cell_type": "markdown",
      "source": [
        "Very good job John\n",
        "You have given this a good try. There is just a few things that you need to work on and then you are there!\n",
        "\n",
        "##Correctness:\n",
        "You should look at your code's indentation inside and outside of your function, from line 5 to line 15.\n",
        "Indentation should be 4 spaces and/or 8  and not a mix of tab and spaces. Here is a link for you to help with\n",
        "indentation: https://www.geeksforgeeks.org/indentation-in-python/\n",
        "\n",
        "In line 4 your def function name should be all lowercase letters only the class name can have uppercase letters.\n",
        " Your return statement in line 15 is outside of your function.\n",
        "Your sorted() definition in line 9, requires one argument inside the brackets.\n",
        "\n",
        "Your code only returns one item of the example output [['bat']] it should return a list of words e.g.\n",
        "[[\"bat\"],[\"nat\",\"tan\"],[\"ate\",\"eat\",\"tea\"]], which are anagrams of your input list of words.\n",
        "\n",
        "## Efficiency\n",
        "Readability of your code is good. \n",
        "\n",
        "## Style\n",
        "Your code is well written. Good use of spaces and variable names\n",
        "\n",
        "## Documentation\n",
        "The construction of your code was well done and your code was well constructed. Your variable names are descriptive and help to understand your code. Your functions are also well done in your code.\n",
        "\n",
        "# Positive aspects\n",
        "Your code is well written and constructed and easy to follow\n",
        "\n",
        "# Improvements\n",
        "Commenting on your code will improve understanding and the thought process of your code. Include comments next time it will guide the reader and help them to follow and understand your code.\n",
        "\n",
        "John make these few adjustments and you will get it right, goodluck!"
      ],
      "metadata": {
        "id": "MSQcJUtAV7A9"
      }
    },
    {
      "cell_type": "code",
      "execution_count": null,
      "metadata": {
        "id": "kmg3hQavV3EG"
      },
      "outputs": [],
      "source": []
    }
  ]
}